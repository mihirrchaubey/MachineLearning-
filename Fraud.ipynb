{
 "cells": [
  {
   "cell_type": "markdown",
   "id": "2a8d9ea0",
   "metadata": {},
   "source": [
    "# Fraud Detection using Logistic Regression"
   ]
  },
  {
   "cell_type": "code",
   "execution_count": 1,
   "id": "27c70a95",
   "metadata": {},
   "outputs": [],
   "source": [
    "import numpy as np\n",
    "import pandas as pd\n",
    "import matplotlib.pyplot as plt\n",
    "import seaborn as sns\n",
    "import warnings\n",
    "warnings.filterwarnings('ignore')"
   ]
  },
  {
   "cell_type": "code",
   "execution_count": 2,
   "id": "0c0560a1",
   "metadata": {},
   "outputs": [],
   "source": [
    "df = pd.read_csv('Fraud.csv')"
   ]
  },
  {
   "cell_type": "code",
   "execution_count": 3,
   "id": "01f0e35b",
   "metadata": {},
   "outputs": [
    {
     "data": {
      "text/html": [
       "<div>\n",
       "<style scoped>\n",
       "    .dataframe tbody tr th:only-of-type {\n",
       "        vertical-align: middle;\n",
       "    }\n",
       "\n",
       "    .dataframe tbody tr th {\n",
       "        vertical-align: top;\n",
       "    }\n",
       "\n",
       "    .dataframe thead th {\n",
       "        text-align: right;\n",
       "    }\n",
       "</style>\n",
       "<table border=\"1\" class=\"dataframe\">\n",
       "  <thead>\n",
       "    <tr style=\"text-align: right;\">\n",
       "      <th></th>\n",
       "      <th>step</th>\n",
       "      <th>type</th>\n",
       "      <th>amount</th>\n",
       "      <th>nameOrig</th>\n",
       "      <th>oldbalanceOrg</th>\n",
       "      <th>newbalanceOrig</th>\n",
       "      <th>nameDest</th>\n",
       "      <th>oldbalanceDest</th>\n",
       "      <th>newbalanceDest</th>\n",
       "      <th>isFraud</th>\n",
       "      <th>isFlaggedFraud</th>\n",
       "    </tr>\n",
       "  </thead>\n",
       "  <tbody>\n",
       "    <tr>\n",
       "      <th>0</th>\n",
       "      <td>1</td>\n",
       "      <td>PAYMENT</td>\n",
       "      <td>9839.64</td>\n",
       "      <td>C1231006815</td>\n",
       "      <td>170136.0</td>\n",
       "      <td>160296.36</td>\n",
       "      <td>M1979787155</td>\n",
       "      <td>0.0</td>\n",
       "      <td>0.0</td>\n",
       "      <td>0</td>\n",
       "      <td>0</td>\n",
       "    </tr>\n",
       "    <tr>\n",
       "      <th>1</th>\n",
       "      <td>1</td>\n",
       "      <td>PAYMENT</td>\n",
       "      <td>1864.28</td>\n",
       "      <td>C1666544295</td>\n",
       "      <td>21249.0</td>\n",
       "      <td>19384.72</td>\n",
       "      <td>M2044282225</td>\n",
       "      <td>0.0</td>\n",
       "      <td>0.0</td>\n",
       "      <td>0</td>\n",
       "      <td>0</td>\n",
       "    </tr>\n",
       "    <tr>\n",
       "      <th>2</th>\n",
       "      <td>1</td>\n",
       "      <td>TRANSFER</td>\n",
       "      <td>181.00</td>\n",
       "      <td>C1305486145</td>\n",
       "      <td>181.0</td>\n",
       "      <td>0.00</td>\n",
       "      <td>C553264065</td>\n",
       "      <td>0.0</td>\n",
       "      <td>0.0</td>\n",
       "      <td>1</td>\n",
       "      <td>0</td>\n",
       "    </tr>\n",
       "    <tr>\n",
       "      <th>3</th>\n",
       "      <td>1</td>\n",
       "      <td>CASH_OUT</td>\n",
       "      <td>181.00</td>\n",
       "      <td>C840083671</td>\n",
       "      <td>181.0</td>\n",
       "      <td>0.00</td>\n",
       "      <td>C38997010</td>\n",
       "      <td>21182.0</td>\n",
       "      <td>0.0</td>\n",
       "      <td>1</td>\n",
       "      <td>0</td>\n",
       "    </tr>\n",
       "    <tr>\n",
       "      <th>4</th>\n",
       "      <td>1</td>\n",
       "      <td>PAYMENT</td>\n",
       "      <td>11668.14</td>\n",
       "      <td>C2048537720</td>\n",
       "      <td>41554.0</td>\n",
       "      <td>29885.86</td>\n",
       "      <td>M1230701703</td>\n",
       "      <td>0.0</td>\n",
       "      <td>0.0</td>\n",
       "      <td>0</td>\n",
       "      <td>0</td>\n",
       "    </tr>\n",
       "  </tbody>\n",
       "</table>\n",
       "</div>"
      ],
      "text/plain": [
       "   step      type    amount     nameOrig  oldbalanceOrg  newbalanceOrig  \\\n",
       "0     1   PAYMENT   9839.64  C1231006815       170136.0       160296.36   \n",
       "1     1   PAYMENT   1864.28  C1666544295        21249.0        19384.72   \n",
       "2     1  TRANSFER    181.00  C1305486145          181.0            0.00   \n",
       "3     1  CASH_OUT    181.00   C840083671          181.0            0.00   \n",
       "4     1   PAYMENT  11668.14  C2048537720        41554.0        29885.86   \n",
       "\n",
       "      nameDest  oldbalanceDest  newbalanceDest  isFraud  isFlaggedFraud  \n",
       "0  M1979787155             0.0             0.0        0               0  \n",
       "1  M2044282225             0.0             0.0        0               0  \n",
       "2   C553264065             0.0             0.0        1               0  \n",
       "3    C38997010         21182.0             0.0        1               0  \n",
       "4  M1230701703             0.0             0.0        0               0  "
      ]
     },
     "execution_count": 3,
     "metadata": {},
     "output_type": "execute_result"
    }
   ],
   "source": [
    "df.head()"
   ]
  },
  {
   "cell_type": "code",
   "execution_count": 4,
   "id": "525eae87",
   "metadata": {},
   "outputs": [
    {
     "data": {
      "text/plain": [
       "(6362620, 11)"
      ]
     },
     "execution_count": 4,
     "metadata": {},
     "output_type": "execute_result"
    }
   ],
   "source": [
    "df.shape # check the shape of the data"
   ]
  },
  {
   "cell_type": "code",
   "execution_count": 5,
   "id": "944de23f",
   "metadata": {},
   "outputs": [
    {
     "name": "stdout",
     "output_type": "stream",
     "text": [
      "<class 'pandas.core.frame.DataFrame'>\n",
      "RangeIndex: 6362620 entries, 0 to 6362619\n",
      "Data columns (total 11 columns):\n",
      " #   Column          Dtype  \n",
      "---  ------          -----  \n",
      " 0   step            int64  \n",
      " 1   type            object \n",
      " 2   amount          float64\n",
      " 3   nameOrig        object \n",
      " 4   oldbalanceOrg   float64\n",
      " 5   newbalanceOrig  float64\n",
      " 6   nameDest        object \n",
      " 7   oldbalanceDest  float64\n",
      " 8   newbalanceDest  float64\n",
      " 9   isFraud         int64  \n",
      " 10  isFlaggedFraud  int64  \n",
      "dtypes: float64(5), int64(3), object(3)\n",
      "memory usage: 534.0+ MB\n"
     ]
    }
   ],
   "source": [
    "df.info() # check the information of the data"
   ]
  },
  {
   "cell_type": "code",
   "execution_count": 6,
   "id": "15983f31",
   "metadata": {},
   "outputs": [
    {
     "data": {
      "text/plain": [
       "Index(['step', 'type', 'amount', 'nameOrig', 'oldbalanceOrg', 'newbalanceOrig',\n",
       "       'nameDest', 'oldbalanceDest', 'newbalanceDest', 'isFraud',\n",
       "       'isFlaggedFraud'],\n",
       "      dtype='object')"
      ]
     },
     "execution_count": 6,
     "metadata": {},
     "output_type": "execute_result"
    }
   ],
   "source": [
    "df.columns # check the columns of the data"
   ]
  },
  {
   "cell_type": "code",
   "execution_count": 7,
   "id": "a6908114",
   "metadata": {},
   "outputs": [
    {
     "data": {
      "text/plain": [
       "step                int64\n",
       "type               object\n",
       "amount            float64\n",
       "nameOrig           object\n",
       "oldbalanceOrg     float64\n",
       "newbalanceOrig    float64\n",
       "nameDest           object\n",
       "oldbalanceDest    float64\n",
       "newbalanceDest    float64\n",
       "isFraud             int64\n",
       "isFlaggedFraud      int64\n",
       "dtype: object"
      ]
     },
     "execution_count": 7,
     "metadata": {},
     "output_type": "execute_result"
    }
   ],
   "source": [
    "df.dtypes # check the data types of the columns"
   ]
  },
  {
   "cell_type": "code",
   "execution_count": 8,
   "id": "442b9d30",
   "metadata": {},
   "outputs": [
    {
     "data": {
      "text/html": [
       "<div>\n",
       "<style scoped>\n",
       "    .dataframe tbody tr th:only-of-type {\n",
       "        vertical-align: middle;\n",
       "    }\n",
       "\n",
       "    .dataframe tbody tr th {\n",
       "        vertical-align: top;\n",
       "    }\n",
       "\n",
       "    .dataframe thead th {\n",
       "        text-align: right;\n",
       "    }\n",
       "</style>\n",
       "<table border=\"1\" class=\"dataframe\">\n",
       "  <thead>\n",
       "    <tr style=\"text-align: right;\">\n",
       "      <th></th>\n",
       "      <th>step</th>\n",
       "      <th>amount</th>\n",
       "      <th>oldbalanceOrg</th>\n",
       "      <th>newbalanceOrig</th>\n",
       "      <th>oldbalanceDest</th>\n",
       "      <th>newbalanceDest</th>\n",
       "      <th>isFraud</th>\n",
       "      <th>isFlaggedFraud</th>\n",
       "    </tr>\n",
       "  </thead>\n",
       "  <tbody>\n",
       "    <tr>\n",
       "      <th>count</th>\n",
       "      <td>6.362620e+06</td>\n",
       "      <td>6.362620e+06</td>\n",
       "      <td>6.362620e+06</td>\n",
       "      <td>6.362620e+06</td>\n",
       "      <td>6.362620e+06</td>\n",
       "      <td>6.362620e+06</td>\n",
       "      <td>6.362620e+06</td>\n",
       "      <td>6.362620e+06</td>\n",
       "    </tr>\n",
       "    <tr>\n",
       "      <th>mean</th>\n",
       "      <td>2.433972e+02</td>\n",
       "      <td>1.798619e+05</td>\n",
       "      <td>8.338831e+05</td>\n",
       "      <td>8.551137e+05</td>\n",
       "      <td>1.100702e+06</td>\n",
       "      <td>1.224996e+06</td>\n",
       "      <td>1.290820e-03</td>\n",
       "      <td>2.514687e-06</td>\n",
       "    </tr>\n",
       "    <tr>\n",
       "      <th>std</th>\n",
       "      <td>1.423320e+02</td>\n",
       "      <td>6.038582e+05</td>\n",
       "      <td>2.888243e+06</td>\n",
       "      <td>2.924049e+06</td>\n",
       "      <td>3.399180e+06</td>\n",
       "      <td>3.674129e+06</td>\n",
       "      <td>3.590480e-02</td>\n",
       "      <td>1.585775e-03</td>\n",
       "    </tr>\n",
       "    <tr>\n",
       "      <th>min</th>\n",
       "      <td>1.000000e+00</td>\n",
       "      <td>0.000000e+00</td>\n",
       "      <td>0.000000e+00</td>\n",
       "      <td>0.000000e+00</td>\n",
       "      <td>0.000000e+00</td>\n",
       "      <td>0.000000e+00</td>\n",
       "      <td>0.000000e+00</td>\n",
       "      <td>0.000000e+00</td>\n",
       "    </tr>\n",
       "    <tr>\n",
       "      <th>25%</th>\n",
       "      <td>1.560000e+02</td>\n",
       "      <td>1.338957e+04</td>\n",
       "      <td>0.000000e+00</td>\n",
       "      <td>0.000000e+00</td>\n",
       "      <td>0.000000e+00</td>\n",
       "      <td>0.000000e+00</td>\n",
       "      <td>0.000000e+00</td>\n",
       "      <td>0.000000e+00</td>\n",
       "    </tr>\n",
       "    <tr>\n",
       "      <th>50%</th>\n",
       "      <td>2.390000e+02</td>\n",
       "      <td>7.487194e+04</td>\n",
       "      <td>1.420800e+04</td>\n",
       "      <td>0.000000e+00</td>\n",
       "      <td>1.327057e+05</td>\n",
       "      <td>2.146614e+05</td>\n",
       "      <td>0.000000e+00</td>\n",
       "      <td>0.000000e+00</td>\n",
       "    </tr>\n",
       "    <tr>\n",
       "      <th>75%</th>\n",
       "      <td>3.350000e+02</td>\n",
       "      <td>2.087215e+05</td>\n",
       "      <td>1.073152e+05</td>\n",
       "      <td>1.442584e+05</td>\n",
       "      <td>9.430367e+05</td>\n",
       "      <td>1.111909e+06</td>\n",
       "      <td>0.000000e+00</td>\n",
       "      <td>0.000000e+00</td>\n",
       "    </tr>\n",
       "    <tr>\n",
       "      <th>max</th>\n",
       "      <td>7.430000e+02</td>\n",
       "      <td>9.244552e+07</td>\n",
       "      <td>5.958504e+07</td>\n",
       "      <td>4.958504e+07</td>\n",
       "      <td>3.560159e+08</td>\n",
       "      <td>3.561793e+08</td>\n",
       "      <td>1.000000e+00</td>\n",
       "      <td>1.000000e+00</td>\n",
       "    </tr>\n",
       "  </tbody>\n",
       "</table>\n",
       "</div>"
      ],
      "text/plain": [
       "               step        amount  oldbalanceOrg  newbalanceOrig  \\\n",
       "count  6.362620e+06  6.362620e+06   6.362620e+06    6.362620e+06   \n",
       "mean   2.433972e+02  1.798619e+05   8.338831e+05    8.551137e+05   \n",
       "std    1.423320e+02  6.038582e+05   2.888243e+06    2.924049e+06   \n",
       "min    1.000000e+00  0.000000e+00   0.000000e+00    0.000000e+00   \n",
       "25%    1.560000e+02  1.338957e+04   0.000000e+00    0.000000e+00   \n",
       "50%    2.390000e+02  7.487194e+04   1.420800e+04    0.000000e+00   \n",
       "75%    3.350000e+02  2.087215e+05   1.073152e+05    1.442584e+05   \n",
       "max    7.430000e+02  9.244552e+07   5.958504e+07    4.958504e+07   \n",
       "\n",
       "       oldbalanceDest  newbalanceDest       isFraud  isFlaggedFraud  \n",
       "count    6.362620e+06    6.362620e+06  6.362620e+06    6.362620e+06  \n",
       "mean     1.100702e+06    1.224996e+06  1.290820e-03    2.514687e-06  \n",
       "std      3.399180e+06    3.674129e+06  3.590480e-02    1.585775e-03  \n",
       "min      0.000000e+00    0.000000e+00  0.000000e+00    0.000000e+00  \n",
       "25%      0.000000e+00    0.000000e+00  0.000000e+00    0.000000e+00  \n",
       "50%      1.327057e+05    2.146614e+05  0.000000e+00    0.000000e+00  \n",
       "75%      9.430367e+05    1.111909e+06  0.000000e+00    0.000000e+00  \n",
       "max      3.560159e+08    3.561793e+08  1.000000e+00    1.000000e+00  "
      ]
     },
     "execution_count": 8,
     "metadata": {},
     "output_type": "execute_result"
    }
   ],
   "source": [
    "df.describe() # check the statistical description of the data"
   ]
  },
  {
   "cell_type": "markdown",
   "id": "829fd4fe",
   "metadata": {},
   "source": [
    "### Check for missing values"
   ]
  },
  {
   "cell_type": "code",
   "execution_count": 9,
   "id": "87550a7f",
   "metadata": {},
   "outputs": [
    {
     "name": "stdout",
     "output_type": "stream",
     "text": [
      "Missing Values:\n",
      " step              0\n",
      "type              0\n",
      "amount            0\n",
      "nameOrig          0\n",
      "oldbalanceOrg     0\n",
      "newbalanceOrig    0\n",
      "nameDest          0\n",
      "oldbalanceDest    0\n",
      "newbalanceDest    0\n",
      "isFraud           0\n",
      "isFlaggedFraud    0\n",
      "dtype: int64\n"
     ]
    }
   ],
   "source": [
    "missing_values = df.isnull().sum()\n",
    "print(\"Missing Values:\\n\", missing_values)"
   ]
  },
  {
   "cell_type": "markdown",
   "id": "8ec663f8",
   "metadata": {},
   "source": [
    "## Data Cleaning"
   ]
  },
  {
   "cell_type": "code",
   "execution_count": 9,
   "id": "4fef110d",
   "metadata": {},
   "outputs": [],
   "source": [
    "df.dropna(inplace=True)  # Dropping rows with missing values\n",
    "df = df.drop(columns=['nameOrig', 'nameDest'])  # Dropping irrelevant columns"
   ]
  },
  {
   "cell_type": "code",
   "execution_count": 10,
   "id": "393b0f11",
   "metadata": {},
   "outputs": [],
   "source": [
    "# One-hot encode categorical variables\n",
    "df = pd.get_dummies(df, columns=['type'], drop_first=True)"
   ]
  },
  {
   "cell_type": "markdown",
   "id": "42ff2062",
   "metadata": {},
   "source": [
    "**Performed One-Hot Encoding on Categorical Variables to convert them into numerical values**"
   ]
  },
  {
   "cell_type": "markdown",
   "id": "7a099e6e",
   "metadata": {},
   "source": [
    "## Feature Selection"
   ]
  },
  {
   "cell_type": "code",
   "execution_count": 11,
   "id": "24e590b0",
   "metadata": {},
   "outputs": [],
   "source": [
    "X = df.drop(columns=['isFraud', 'isFlaggedFraud'])  # 'isFraud' is the target variable and 'isFlaggedFraud' is an outlier\n",
    "y = df['isFraud']"
   ]
  },
  {
   "cell_type": "markdown",
   "id": "19571998",
   "metadata": {},
   "source": [
    "## Importing the libraries"
   ]
  },
  {
   "cell_type": "code",
   "execution_count": 12,
   "id": "7debbdd2",
   "metadata": {},
   "outputs": [],
   "source": [
    "from sklearn.model_selection import train_test_split\n",
    "from sklearn.preprocessing import StandardScaler\n",
    "from sklearn.ensemble import RandomForestRegressor\n",
    "from sklearn.metrics import classification_report, confusion_matrix, roc_auc_score, roc_curve, precision_recall_curve"
   ]
  },
  {
   "cell_type": "markdown",
   "id": "c8acfa5c",
   "metadata": {},
   "source": [
    "## Split data into training and testing sets"
   ]
  },
  {
   "cell_type": "code",
   "execution_count": 13,
   "id": "d3e0c102",
   "metadata": {},
   "outputs": [],
   "source": [
    "X_train, X_test, y_train, y_test = train_test_split(X, y, test_size=0.3, random_state=42) # 70% training and 30% testing"
   ]
  },
  {
   "cell_type": "code",
   "execution_count": 14,
   "id": "0851687f",
   "metadata": {},
   "outputs": [
    {
     "name": "stdout",
     "output_type": "stream",
     "text": [
      "(4453834, 10)\n",
      "(1908786, 10)\n",
      "(4453834,)\n",
      "(1908786,)\n"
     ]
    }
   ],
   "source": [
    "print(X_train.shape) \n",
    "print(X_test.shape)  \n",
    "print(y_train.shape) \n",
    "print(y_test.shape)  "
   ]
  },
  {
   "cell_type": "code",
   "execution_count": 15,
   "id": "61b14985",
   "metadata": {},
   "outputs": [],
   "source": [
    "# Scale the features\n",
    "scaler = StandardScaler()  # StandardScaler is used to standardize the features\n",
    "X_train_scaled = scaler.fit_transform(X_train)  # fit_transform is used to fit the scaler to the training data\n",
    "X_test_scaled = scaler.transform(X_test)  # transform is used to transform the test data using the same scaler"
   ]
  },
  {
   "cell_type": "markdown",
   "id": "477edd67",
   "metadata": {},
   "source": [
    "**StandardScaler is used to tackles the issue of features in your data having different scales. This can negatively affect certain machine learning models. StandardScaler addresses this by scaling the features to have a standard normal distribution.**"
   ]
  },
  {
   "cell_type": "markdown",
   "id": "2375cee4",
   "metadata": {},
   "source": [
    "## Create and Fit Random Forest Regression Model"
   ]
  },
  {
   "cell_type": "code",
   "execution_count": null,
   "id": "bb2376a6",
   "metadata": {},
   "outputs": [],
   "source": [
    "forest=RandomForestRegressor()\n",
    "forest.fit(X_train,y_train)\n"
   ]
  },
  {
   "cell_type": "code",
   "execution_count": 18,
   "id": "8a0d7952",
   "metadata": {},
   "outputs": [],
   "source": [
    "# Model Evaluation\n",
    "y_pred = model.predict(X_test_scaled)\n",
    "y_pred_proba = model.predict_proba(X_test_scaled)[:, 1]"
   ]
  },
  {
   "cell_type": "markdown",
   "id": "f7a874bd",
   "metadata": {},
   "source": [
    "## Classification Report"
   ]
  },
  {
   "cell_type": "code",
   "execution_count": 19,
   "id": "5524db3f",
   "metadata": {},
   "outputs": [
    {
     "name": "stdout",
     "output_type": "stream",
     "text": [
      "Classification Report:\n",
      "               precision    recall  f1-score   support\n",
      "\n",
      "           0       1.00      1.00      1.00   1906351\n",
      "           1       0.92      0.43      0.58      2435\n",
      "\n",
      "    accuracy                           1.00   1908786\n",
      "   macro avg       0.96      0.71      0.79   1908786\n",
      "weighted avg       1.00      1.00      1.00   1908786\n",
      "\n"
     ]
    }
   ],
   "source": [
    "print(\"Classification Report:\\n\", classification_report(y_test, y_pred))"
   ]
  },
  {
   "cell_type": "markdown",
   "id": "07b6801c",
   "metadata": {},
   "source": [
    "**Precision:**\n",
    "\n",
    "For class 0 (non-fraudulent transactions), precision is perfect at 1.00, indicating that all instances classified as non-fraudulent are indeed non-fraudulent.\n",
    "For class 1 (fraudulent transactions), precision is 0.92, meaning that out of all instances classified as fraudulent, 92% are truly fraudulent, while 8% are false positives.\n",
    "\n",
    "**Recall (Sensitivity):**\n",
    "\n",
    "For class 0, recall is perfect at 1.00, indicating that all actual non-fraudulent instances are correctly classified as non-fraudulent.\n",
    "For class 1, recall is 0.43, suggesting that only 43% of actual fraudulent instances are correctly classified as fraudulent. This indicates that a significant portion of fraudulent transactions is being missed (false negatives).\n",
    "\n",
    "**F1-Score:**\n",
    "\n",
    "The F1-score is the harmonic mean of precision and recall.\n",
    "For class 0, the F1-score is 1.00, indicating excellent balance between precision and recall.\n",
    "For class 1, the F1-score is 0.58, reflecting a trade-off between precision and recall.\n",
    "\n",
    "**Support:**\n",
    "\n",
    "Support refers to the number of occurrences of each class in the dataset.\n",
    "There are 1,906,351 instances of class 0 (non-fraudulent transactions) and 2,435 instances of class 1 (fraudulent transactions).\n",
    "\n",
    "**Accuracy:**\n",
    "\n",
    "Overall accuracy is 1.00, indicating that 100% of transactions are classified correctly overall.\n",
    "However, accuracy can be misleading in imbalanced datasets like this one, where the majority of transactions are non-fraudulent. The high accuracy is mainly driven by the large number of correctly classified non-fraudulent transactions.\n",
    "\n",
    "**Macro Avg and Weighted Avg:**\n",
    "\n",
    "Macro average calculates the metric independently for each class and then takes the unweighted mean of the scores.\n",
    "Weighted average calculates the metric for each class and then takes the weighted average based on the number of true instances for each class.\n",
    "\n",
    "**Inference:**\n",
    "\n",
    "The model performs exceptionally well in classifying non-fraudulent transactions (class 0), with perfect precision, recall, and F1-score.<br>\n",
    "However, it struggles with identifying fraudulent transactions (class 1), as indicated by lower precision, recall, and F1-score.\n",
    "The high accuracy is driven by the overwhelming number of non-fraudulent transactions.<br>\n",
    "There's a significant number of false negatives (fraudulent transactions incorrectly classified as non-fraudulent), suggesting room for improvement in detecting fraudulent activities.<br>"
   ]
  },
  {
   "cell_type": "markdown",
   "id": "dd486ab6",
   "metadata": {},
   "source": [
    "**Accuracy : TP + TN / (TP + TN + FP + FN) : Overall performance of model**\n",
    "          \n",
    "**Precision : TP / (TP + FP) : How accurate the positive predictions are**\n",
    "\n",
    "**Recall Sensitivity : TP / (TP + FN) : Coverage of actual positive sample**\n",
    "       \n",
    "**Specificity : TN / (TN + FP) : Coverage of actual negative sample**\n",
    "\n",
    "**F1 score : 2TP / (2TP + FP + FN) : Hybrid metric useful for unbalanced classes**"
   ]
  },
  {
   "cell_type": "markdown",
   "id": "261cdbc6",
   "metadata": {},
   "source": [
    "## Calculate Metrics"
   ]
  },
  {
   "cell_type": "markdown",
   "id": "1e9d7f77",
   "metadata": {},
   "source": [
    "### Mean Squared Error\n",
    "**Mean squared error (MSE) is a way to measure how accurate a prediction model is. It calculates the average squared difference between the actual values and the predicted values. In simpler terms, it tells you how far off your model is from real data on average. A lower MSE means your model is making better predictions.**"
   ]
  },
  {
   "cell_type": "code",
   "execution_count": 20,
   "id": "5b9fbb5d",
   "metadata": {},
   "outputs": [
    {
     "data": {
      "text/plain": [
       "0.0007748380384181359"
      ]
     },
     "execution_count": 20,
     "metadata": {},
     "output_type": "execute_result"
    }
   ],
   "source": [
    "from sklearn.metrics import mean_squared_error\n",
    "mean_squared_error(y_test, y_pred)"
   ]
  },
  {
   "cell_type": "code",
   "execution_count": 21,
   "id": "dd04aae4",
   "metadata": {},
   "outputs": [
    {
     "data": {
      "text/plain": [
       "0.027835912746273218"
      ]
     },
     "execution_count": 21,
     "metadata": {},
     "output_type": "execute_result"
    }
   ],
   "source": [
    "np.sqrt(mean_squared_error(y_test, y_pred))"
   ]
  },
  {
   "cell_type": "markdown",
   "id": "ee2e3425",
   "metadata": {},
   "source": [
    "### Mean Absolute Error\n",
    "**Mean Absolute Error (MAE) is another way to measure prediction accuracy. Unlike MSE, it focuses on the average size of the errors, ignoring their direction (over or underestimation). Imagine it as the average absolute difference between your predictions and the actual values. A lower MAE means your model's predictions are generally closer to the real values, in magnitude.**"
   ]
  },
  {
   "cell_type": "code",
   "execution_count": 22,
   "id": "3edd949c",
   "metadata": {},
   "outputs": [
    {
     "data": {
      "text/plain": [
       "0.0007748380384181359"
      ]
     },
     "execution_count": 22,
     "metadata": {},
     "output_type": "execute_result"
    }
   ],
   "source": [
    "from sklearn.metrics import mean_absolute_error\n",
    "mean_absolute_error(y_test, y_pred)"
   ]
  },
  {
   "cell_type": "markdown",
   "id": "18aaa332",
   "metadata": {},
   "source": [
    "## Confusion Matrix"
   ]
  },
  {
   "cell_type": "code",
   "execution_count": 31,
   "id": "546d762e",
   "metadata": {},
   "outputs": [
    {
     "name": "stdout",
     "output_type": "stream",
     "text": [
      "Confusion Matrix:\n",
      "[  TP  |  FP  ]\n",
      "[  FN  |  TN  ]\n",
      "\n",
      "TP: 1906266, TN: 1041, FP: 85, FN: 1394\n"
     ]
    },
    {
     "data": {
      "image/png": "[encoded data removed]",
      "text/plain": [
       "<Figure size 800x600 with 2 Axes>"
      ]
     },
     "metadata": {},
     "output_type": "display_data"
    }
   ],
   "source": [
    "conf_matrix = confusion_matrix(y_test, y_pred)\n",
    "\n",
    "TP = conf_matrix[0, 0]  # Top-left corner (True Positives)\n",
    "TN = conf_matrix[1, 1]  # Bottom-right corner (True Negatives)\n",
    "FP = conf_matrix[0, 1]  # Top-right corner (False Positives)\n",
    "FN = conf_matrix[1, 0]  # Bottom-left corner (False Negatives)\n",
    "\n",
    "print(\"Confusion Matrix:\")\n",
    "print(f\"[  TP  |  FP  ]\")\n",
    "print(f\"[  FN  |  TN  ]\")\n",
    "print(f\"\\nTP: {TP}, TN: {TN}, FP: {FP}, FN: {FN}\")\n",
    "\n",
    "plt.figure(figsize=(8, 6))\n",
    "sns.heatmap(conf_matrix, annot=True, fmt='d', cmap='Blues')\n",
    "plt.title('Confusion Matrix')\n",
    "plt.xlabel('Predicted')\n",
    "plt.ylabel('Actual')\n",
    "plt.show()"
   ]
  },
  {
   "cell_type": "markdown",
   "id": "76d1dea2",
   "metadata": {},
   "source": [
    "## ROC Curve and AUC Score"
   ]
  },
  {
   "cell_type": "markdown",
   "id": "cc25d2d5",
   "metadata": {},
   "source": [
    "**ROC Curve :** <br>\n",
    "An ROC Curve (Receiver Operating Characteristic Curve) is a graph used in machine learning for binary classification tasks. It shows the performance of a model at various classification thresholds. It plots the **True Positive Rate (TPR)** on the **y-axis** against the **False Positive Rate (FPR)** on the **x-axis**. **A good model will have an ROC curve that stays close to the top-left corner, indicating it can correctly identify positive cases while minimizing false positives.**\n",
    "\n",
    "**AUC Score :** <br>\n",
    "AUC stands for Area Under the ROC Curve. It gauges a binary classifier's performance in distinguishing between positive and negative classes. It ranges from 0 to 1. A higher AUC indicates better ability to separate the classes.<br>\n",
    "**AUC of 1: Perfect classifier.<br>\n",
    "AUC of 0.5: Random guessing.<br>\n",
    "AUC between 0.5 and 1: Classifier performs better than random guessing.**<br>"
   ]
  },
  {
   "cell_type": "code",
   "execution_count": 25,
   "id": "adcd4d66",
   "metadata": {},
   "outputs": [
    {
     "data": {
      "image/png": "[encoded data removed]",
      "text/plain": [
       "<Figure size 800x600 with 1 Axes>"
      ]
     },
     "metadata": {},
     "output_type": "display_data"
    }
   ],
   "source": [
    "fpr, tpr, _ = roc_curve(y_test, y_pred_proba) \n",
    "roc_auc = roc_auc_score(y_test, y_pred_proba)  # Calculate the area under the ROC curve \n",
    "plt.figure(figsize=(8, 6))\n",
    "plt.plot(fpr, tpr, label=f'ROC Curve (AUC = {roc_auc:.2f})') \n",
    "plt.plot([0, 1], [0, 1], 'k--')  # Plot the diagonal line \n",
    "plt.xlabel('False Positive Rate') \n",
    "plt.ylabel('True Positive Rate')\n",
    "plt.title('ROC Curve')\n",
    "plt.legend(loc='lower right')\n",
    "plt.show()"
   ]
  },
  {
   "cell_type": "markdown",
   "id": "62b1b306",
   "metadata": {},
   "source": [
    "## Precision-Recall Curve"
   ]
  },
  {
   "cell_type": "markdown",
   "id": "b5c0fcb6",
   "metadata": {},
   "source": [
    "**A Precision-Recall Curve shows the trade-off between precision and recall for various classification thresholds. Precision reflects the proportion of true positives among predicted positives, while recall indicates the captured fraction of all actual positives. The curve goes from high precision (low false positives) at the beginning to high recall (low false negatives) at the end. A good model balances these aspects, resulting in a curve that stays high on both axes.**"
   ]
  },
  {
   "cell_type": "code",
   "execution_count": 26,
   "id": "14571ee3",
   "metadata": {},
   "outputs": [
    {
     "data": {
      "image/png": "[encoded data removed]",
      "text/plain": [
       "<Figure size 800x600 with 1 Axes>"
      ]
     },
     "metadata": {},
     "output_type": "display_data"
    }
   ],
   "source": [
    "precision, recall, _ = precision_recall_curve(y_test, y_pred_proba)\n",
    "plt.figure(figsize=(8, 6))\n",
    "plt.plot(recall, precision, marker='.')\n",
    "plt.xlabel('Recall')\n",
    "plt.ylabel('Precision')\n",
    "plt.title('Precision-Recall Curve')\n",
    "plt.show()"
   ]
  },
  {
   "cell_type": "markdown",
   "id": "2b6608d9",
   "metadata": {},
   "source": [
    "## Model Performance"
   ]
  },
  {
   "cell_type": "code",
   "execution_count": 27,
   "id": "e95e6259",
   "metadata": {},
   "outputs": [
    {
     "data": {
      "text/plain": [
       "99.92251619615818"
      ]
     },
     "execution_count": 27,
     "metadata": {},
     "output_type": "execute_result"
    }
   ],
   "source": [
    "model.score(X_test_scaled, y_test)*100"
   ]
  },
  {
   "cell_type": "code",
   "execution_count": 28,
   "id": "e06718c9",
   "metadata": {},
   "outputs": [
    {
     "data": {
      "text/plain": [
       "99.92166299866587"
      ]
     },
     "execution_count": 28,
     "metadata": {},
     "output_type": "execute_result"
    }
   ],
   "source": [
    "model.score(X_train_scaled, y_train)*100"
   ]
  },
  {
   "cell_type": "markdown",
   "id": "b137ab35",
   "metadata": {},
   "source": [
    "## Key Factors to Consider for Fraud Detection"
   ]
  },
  {
   "cell_type": "code",
   "execution_count": 29,
   "id": "c2c991d4",
   "metadata": {},
   "outputs": [
    {
     "data": {
      "image/png": "[encoded data removed]",
      "text/plain": [
       "<Figure size 640x480 with 1 Axes>"
      ]
     },
     "metadata": {},
     "output_type": "display_data"
    }
   ],
   "source": [
    "# Feature Importance (Coefficients in Logistic Regression)\n",
    "feature_importances = pd.Series(model.coef_[0], index=X.columns) \n",
    "feature_importances.nlargest(10).plot(kind='barh')  # plot the top 10 features\n",
    "plt.title('Top 10 Feature Importances') \n",
    "plt.show()"
   ]
  },
  {
   "cell_type": "code",
   "execution_count": 30,
   "id": "ec6d2d80",
   "metadata": {},
   "outputs": [
    {
     "name": "stdout",
     "output_type": "stream",
     "text": [
      "Key Factors:\n",
      " oldbalanceOrg     35.496036\n",
      "oldbalanceDest    11.156791\n",
      "type_CASH_OUT      2.714407\n",
      "type_TRANSFER      2.030449\n",
      "step               0.716835\n",
      "type_DEBIT        -0.238577\n",
      "amount            -1.438336\n",
      "type_PAYMENT      -1.768001\n",
      "newbalanceDest   -13.074170\n",
      "newbalanceOrig   -38.161788\n",
      "dtype: float64\n"
     ]
    }
   ],
   "source": [
    "# Key Factors\n",
    "key_factors = feature_importances.nlargest(10)  # select the top 10 features\n",
    "print(\"Key Factors:\\n\", key_factors)  # print the key factors"
   ]
  },
  {
   "cell_type": "markdown",
   "id": "d39d1a52",
   "metadata": {},
   "source": [
    "## Fraud Detection Model Description\n",
    "\n",
    "#### Objective\n",
    "The goal of this project is to develop a robust machine learning model capable of accurately predicting fraudulent transactions within a financial company's dataset. By leveraging historical transaction data, the model aims to effectively differentiate between legitimate and fraudulent activities.\n",
    "\n",
    "#### Data\n",
    "The dataset comprises 6,362,620 entries and 10 features, including transaction type, amount, origin and destination balances, and a label indicating fraudulence.\n",
    "\n",
    "#### Data Dictionary\n",
    "- **step**: Time unit in hours.\n",
    "- **type**: Transaction type (e.g., CASH-IN, CASH-OUT, DEBIT, PAYMENT, TRANSFER).\n",
    "- **amount**: Transaction amount.\n",
    "- **nameOrig**: Initiating customer's identifier.\n",
    "- **oldbalanceOrg**: Initial balance before the transaction.\n",
    "- **newbalanceOrig**: Updated balance after the transaction.\n",
    "- **nameDest**: Recipient's identifier.\n",
    "- **oldbalanceDest**: Recipient's initial balance.\n",
    "- **newbalanceDest**: Recipient's updated balance.\n",
    "- **isFraud**: Binary indicator of fraudulence.\n",
    "- **isFlaggedFraud**: Flagged transactions attempting to transfer more than 200,000 in a single attempt.\n",
    "\n",
    "#### Data Preprocessing\n",
    "1. **Handling Missing Values**: Rows with missing data were removed.\n",
    "2. **Outlier Treatment**: Outliers were identified and capped using the Interquartile Range (IQR) method.\n",
    "3. **Feature Engineering**: Irrelevant columns (`nameOrig` and `nameDest`) were dropped, and the categorical variable `type` was one-hot encoded.\n",
    "4. **Feature Scaling**: Numerical features were standardized using `StandardScaler`.\n",
    "\n",
    "#### Model Selection\n",
    "In this iteration, a Logistic Regression model was chosen due to its interpretability and suitability for binary classification tasks like fraud detection.\n",
    "\n",
    "#### Model Training\n",
    "- **Data Split**: The dataset was divided into training (70%) and testing (30%) sets.\n",
    "- **Scaling**: Features were scaled using `StandardScaler` to ensure consistent contributions.\n",
    "- **Model Training**: The Logistic Regression model was trained on the scaled training data.\n",
    "\n",
    "#### Model Evaluation\n",
    "The model's performance was assessed using various metrics:\n",
    "1. **Classification Report**: Precision, recall, f1-score, and support for each class.\n",
    "2. **Confusion Matrix**: Visual representation of true positives, true negatives, false positives, and false negatives.\n",
    "3. **ROC Curve and AUC Score**: Evaluation of the trade-off between true positive and false positive rates.\n",
    "4. **Precision-Recall Curve**: Focus on precision and recall trade-off, particularly beneficial for imbalanced datasets.\n",
    "5. **Feature Importance**: Identification of key features contributing to fraud prediction.\n",
    "\n",
    "#### Key Factors\n",
    "The model identified several key features influencing fraud prediction:\n",
    "1. **amount**: Transaction amount.\n",
    "2. **oldbalanceOrg**: Initial balance before the transaction.\n",
    "3. **newbalanceOrig**: Updated balance after the transaction.\n",
    "4. **oldbalanceDest**: Recipient's initial balance.\n",
    "5. **newbalanceDest**: Recipient's updated balance.\n",
    "6. **type_TRANSFER**: Indicator for transfer transactions.\n",
    "7. **type_CASH_OUT**: Indicator for cash-out transactions.\n",
    "\n",
    "#### Prevention Measures\n",
    "To mitigate fraud risk, the following preventive measures are recommended:\n",
    "1. **Enhanced Authentication**: Implement multi-factor authentication for transaction initiation.\n",
    "2. **Continuous Monitoring**: Regularly monitor high-risk transactions and flag suspicious activities.\n",
    "3. **Anomaly Detection Systems**: Deploy systems to detect unusual transaction patterns.\n",
    "4. **Customer Education**: Educate customers about fraud prevention and encourage prompt reporting of suspicious transactions.\n",
    "\n",
    "#### Effectiveness Assessment\n",
    "To evaluate the effectiveness of prevention measures:\n",
    "1. **Transaction Monitoring**: Track the trend of fraudulent transactions over time to assess any decrease.\n",
    "2. **Regular Audits**: Conduct periodic audits to gauge the effectiveness of fraud prevention mechanisms.\n",
    "3. **Feedback Mechanisms**: Gather feedback from customers regarding security measures and make necessary adjustments.\n",
    "\n",
    "By adhering to these strategies, the financial company can establish a robust fraud detection system, bolstering security and safeguarding against potential financial losses."
   ]
  },
  {
   "cell_type": "markdown",
   "id": "20ab32f2",
   "metadata": {},
   "source": [
    "## Selecting variables to include in the model\n",
    "- **Understanding Data and Domain Knowledge**:\n",
    "  - Contextual understanding of the data and business problem is essential.\n",
    "  - Data dictionary provided insights into variable relevance.\n",
    "\n",
    "- **Initial Data Inspection**:\n",
    "  - Identified and addressed issues like missing values and irrelevant columns.\n",
    "  - Columns like `nameOrig` and `nameDest` deemed irrelevant.\n",
    "\n",
    "- **Handling Missing Values**:\n",
    "  - Dropped rows with missing data for simplicity.\n",
    "\n",
    "- **Handling Irrelevant Columns**:\n",
    "  - Dropped columns like `nameOrig`, `nameDest`, and `isFlaggedFraud`.\n",
    "  - `isFlaggedFraud` considered more of a business rule indicator than a predictor.\n",
    "\n",
    "- **One-Hot Encoding of Categorical Variables**:\n",
    "  - Converted categorical variable `type` into numerical format for model compatibility.\n",
    "\n",
    "- **Feature Scaling**:\n",
    "  - Scaled numerical features using `StandardScaler` for equal contribution.\n",
    "\n",
    "- **Correlation Analysis**:\n",
    "  - Analyzed correlation between features to avoid multicollinearity.\n",
    "  - Dropped highly correlated features if necessary.\n",
    "\n",
    "- **Final Feature Set**:\n",
    "  - Included relevant features like `step`, `type` (one-hot encoded), `amount`, `oldbalanceOrg`, `newbalanceOrig`, `oldbalanceDest`, `newbalanceDest`.\n",
    "\n",
    "- **Summary**:\n",
    "  - Leveraged domain understanding for feature selection.\n",
    "  - Addressed missing values, irrelevant columns, and performed feature engineering.\n",
    "  - Ensured numerical compatibility and equal contribution through scaling.\n",
    "  - Avoided redundancy by analyzing feature correlations.\n",
    "  - Final feature set chosen based on relevance and predictive power contribution."
   ]
  },
  {
   "cell_type": "markdown",
   "id": "07be333c",
   "metadata": {},
   "source": [
    " ## Key Factors for Fraud Prediction:\n",
    "  1. **High Initial Balances**:\n",
    "     - High `oldbalanceOrg` and `oldbalanceDest` increase fraud likelihood.\n",
    "  2. **Transaction Types**:\n",
    "     - `CASH_OUT` and `TRANSFER` transactions are more likely fraudulent.\n",
    "     - `DEBIT` and `PAYMENT` transactions are less likely fraudulent.\n",
    "  3. **Transaction Amount**:\n",
    "     - Larger transaction amounts are associated with lower fraud likelihood.\n",
    "  4. **Time of Transaction**:\n",
    "     - `step` (hour) has a weak positive impact on fraud likelihood.\n",
    "  5. **Balances After Transaction**:\n",
    "     - Lower `newbalanceDest` and `newbalanceOrig` decrease fraud likelihood.\n",
    "  \n",
    "- **Interpretations**:\n",
    "  - Fraudsters target accounts with high initial balances for maximum gain.\n",
    "  - Certain transaction types are more susceptible to fraud, while others are less likely due to stricter controls.\n",
    "  - Fraudsters may avoid conspicuous transaction amounts to evade detection.\n",
    "  - Accounts with significantly depleted balances after transactions are indicative of fraud.\n",
    "  \n",
    "- **Implications**:\n",
    "  - Understanding these factors aids in interpreting the model's predictions.\n",
    "  - Guides implementation of targeted fraud prevention measures.\n",
    "  - Flagging transactions with high initial balances or involving CASH_OUT and TRANSFER for review can enhance fraud detection."
   ]
  },
  {
   "cell_type": "markdown",
   "id": "03d03b3f",
   "metadata": {},
   "source": [
    "## Factors to Consider:\n",
    "Yes, these factors make sense, but there are some areas to consider:\n",
    "\n",
    "1. **High Precision for Non-Fraudulent Transactions**:\n",
    "   - Makes sense: High precision (1.00) for non-fraudulent transactions indicates that the model correctly identifies almost all non-fraudulent transactions without many false positives, which is crucial for not flagging legitimate transactions as fraudulent.\n",
    "\n",
    "2. **Lower Precision and Recall for Fraudulent Transactions**:\n",
    "   - Makes sense: The lower precision (0.92) and recall (0.43) for fraudulent transactions reflect the inherent challenge of detecting fraud, where some fraudulent activities may go undetected (false negatives), and there might be false alarms (false positives) among flagged transactions.\n",
    "\n",
    "3. **High Accuracy but Imbalance in Dataset**:\n",
    "   - Makes sense: The high accuracy (1.00) is driven by the large number of correctly classified non-fraudulent transactions, which dominate the dataset. However, accuracy can be misleading in imbalanced datasets, where the minority class (fraudulent transactions) is of interest.\n",
    "\n",
    "4. **Trade-off in F1-Score for Fraudulent Transactions**:\n",
    "   - Makes sense: The F1-score for fraudulent transactions (0.58) indicates a trade-off between precision and recall, highlighting the balance between minimizing false alarms and capturing as many fraudulent instances as possible.\n",
    "\n",
    "5. **Support and Dataset Distribution**:\n",
    "   - Makes sense: The high number of instances for non-fraudulent transactions (1,906,351) compared to fraudulent transactions (2,435) reflects the real-world scenario where fraudulent transactions are rare compared to legitimate ones.\n",
    "\n",
    "6. **Opportunity for Improvement**:\n",
    "   - Makes sense: The model's performance, while good overall, suggests room for improvement in detecting fraudulent transactions, especially in increasing recall to capture more fraudulent instances while minimizing false alarms.\n",
    "\n",
    "In summary, while the factors align with expectations for fraud detection, there's recognition of the challenges posed by imbalanced datasets and the need for continuous improvement to enhance fraud detection capabilities."
   ]
  },
  {
   "cell_type": "markdown",
   "id": "ba718dd1",
   "metadata": {},
   "source": [
    "## Preventive Measures should be adopted by the company :\n",
    "- **Implement Real-time Monitoring Systems**:\n",
    "  - Deploy systems that monitor transactions in real-time to detect anomalies or suspicious patterns immediately.\n",
    "\n",
    "- **Enhance Authentication Measures**:\n",
    "  - Strengthen authentication processes, including multi-factor authentication, to verify user identity and prevent unauthorized access.\n",
    "\n",
    "- **Invest in Machine Learning Models**:\n",
    "  - Develop and integrate machine learning models for fraud detection to continuously analyze transaction data and adapt to evolving fraud tactics.\n",
    "\n",
    "- **Collaborate with Industry Partners**:\n",
    "  - Engage with industry partners and share insights to stay updated on emerging fraud trends and prevention strategies.\n",
    "\n",
    "- **Educate Employees and Customers**:\n",
    "  - Conduct regular training sessions for employees and customers to raise awareness about common fraud schemes and prevention techniques.\n",
    "\n",
    "- **Implement Secure Communication Protocols**:\n",
    "  - Upgrade infrastructure to use secure communication protocols and encryption methods to protect sensitive data during transactions.\n",
    "\n",
    "- **Enforce Strict Access Controls**:\n",
    "  - Enforce strict access controls and regularly review and update permissions to limit access to sensitive systems and data.\n",
    "\n",
    "- **Conduct Regular Security Audits**:\n",
    "  - Perform regular security audits and penetration testing to identify vulnerabilities and proactively address security risks."
   ]
  },
  {
   "cell_type": "markdown",
   "id": "b1ecc57f",
   "metadata": {},
   "source": [
    "## Determining the effectiveness of prevention measures:\n",
    "To determine if the implemented prevention measures are effective, you would conduct various evaluations and assessments, including:\n",
    "\n",
    "1. **Monitoring Metrics**:\n",
    "   - Continuously monitor key performance indicators (KPIs) related to fraud detection and prevention, such as the number of detected fraudulent transactions, false positive rates, and detection time.\n",
    "\n",
    "2. **Comparative Analysis**:\n",
    "   - Compare historical data before and after the implementation of prevention measures to assess any changes in fraud rates, detection accuracy, and response time.\n",
    "\n",
    "3. **Benchmarking Against Industry Standards**:\n",
    "   - Benchmark the organization's performance against industry standards and best practices to evaluate its effectiveness relative to peers and competitors.\n",
    "\n",
    "4. **Feedback from Stakeholders**:\n",
    "   - Gather feedback from employees, customers, and other stakeholders regarding their perception of security measures and any observed changes in fraud incidents or security incidents.\n",
    "\n",
    "5. **Incident Response Analysis**:\n",
    "   - Analyze incident response data to determine how effectively the prevention measures mitigate and respond to attempted fraud incidents.\n",
    "\n",
    "6. **Adaptive Model Performance**:\n",
    "   - Evaluate the performance of machine learning models used for fraud detection by analyzing their accuracy, precision, recall, and other relevant metrics. Continuously refine and update these models based on feedback and emerging threats.\n",
    "\n",
    "7. **Regular Audits and Testing**:\n",
    "   - Conduct regular audits, penetration testing, and simulations of fraudulent scenarios to identify weaknesses in the prevention measures and address them proactively.\n",
    "\n",
    "8. **Compliance and Regulatory Requirements**:\n",
    "   - Ensure that the prevention measures align with industry regulations and compliance standards, and assess compliance levels through audits and assessments.\n",
    "\n",
    "By combining these approaches, organizations can effectively assess the effectiveness of their fraud prevention measures and make necessary adjustments to enhance security and mitigate risks."
   ]
  }
 ],
 "metadata": {
  "kernelspec": {
   "display_name": "Python 3 (ipykernel)",
   "language": "python",
   "name": "python3"
  },
  "language_info": {
   "codemirror_mode": {
    "name": "ipython",
    "version": 3
   },
   "file_extension": ".py",
   "mimetype": "text/x-python",
   "name": "python",
   "nbconvert_exporter": "python",
   "pygments_lexer": "ipython3",
   "version": "3.11.5"
  }
 },
 "nbformat": 4,
 "nbformat_minor": 5
}
